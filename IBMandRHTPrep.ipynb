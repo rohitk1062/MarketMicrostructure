{
 "cells": [
  {
   "cell_type": "code",
   "execution_count": 8,
   "metadata": {},
   "outputs": [
    {
     "data": {
      "text/html": [
       "<div>\n",
       "<style scoped>\n",
       "    .dataframe tbody tr th:only-of-type {\n",
       "        vertical-align: middle;\n",
       "    }\n",
       "\n",
       "    .dataframe tbody tr th {\n",
       "        vertical-align: top;\n",
       "    }\n",
       "\n",
       "    .dataframe thead th {\n",
       "        text-align: right;\n",
       "    }\n",
       "</style>\n",
       "<table border=\"1\" class=\"dataframe\">\n",
       "  <thead>\n",
       "    <tr style=\"text-align: right;\">\n",
       "      <th></th>\n",
       "      <th>DATE</th>\n",
       "      <th>TIME_M</th>\n",
       "      <th>SYM_ROOT</th>\n",
       "      <th>SYM_SUFFIX</th>\n",
       "      <th>SIZE</th>\n",
       "      <th>PRICE</th>\n",
       "    </tr>\n",
       "  </thead>\n",
       "  <tbody>\n",
       "    <tr>\n",
       "      <th>0</th>\n",
       "      <td>20181022</td>\n",
       "      <td>4:03:28.995389000</td>\n",
       "      <td>IBM</td>\n",
       "      <td>NaN</td>\n",
       "      <td>200</td>\n",
       "      <td>129.73</td>\n",
       "    </tr>\n",
       "    <tr>\n",
       "      <th>1</th>\n",
       "      <td>20181022</td>\n",
       "      <td>4:26:26.485407000</td>\n",
       "      <td>IBM</td>\n",
       "      <td>NaN</td>\n",
       "      <td>12</td>\n",
       "      <td>129.50</td>\n",
       "    </tr>\n",
       "    <tr>\n",
       "      <th>2</th>\n",
       "      <td>20181022</td>\n",
       "      <td>5:49:33.252150000</td>\n",
       "      <td>IBM</td>\n",
       "      <td>NaN</td>\n",
       "      <td>2</td>\n",
       "      <td>129.50</td>\n",
       "    </tr>\n",
       "    <tr>\n",
       "      <th>3</th>\n",
       "      <td>20181022</td>\n",
       "      <td>6:49:35.433117000</td>\n",
       "      <td>IBM</td>\n",
       "      <td>NaN</td>\n",
       "      <td>30</td>\n",
       "      <td>129.45</td>\n",
       "    </tr>\n",
       "    <tr>\n",
       "      <th>4</th>\n",
       "      <td>20181022</td>\n",
       "      <td>6:50:51.986140000</td>\n",
       "      <td>IBM</td>\n",
       "      <td>NaN</td>\n",
       "      <td>10</td>\n",
       "      <td>129.72</td>\n",
       "    </tr>\n",
       "    <tr>\n",
       "      <th>...</th>\n",
       "      <td>...</td>\n",
       "      <td>...</td>\n",
       "      <td>...</td>\n",
       "      <td>...</td>\n",
       "      <td>...</td>\n",
       "      <td>...</td>\n",
       "    </tr>\n",
       "    <tr>\n",
       "      <th>1439145</th>\n",
       "      <td>20181102</td>\n",
       "      <td>18:05:15.571047000</td>\n",
       "      <td>RHT</td>\n",
       "      <td>NaN</td>\n",
       "      <td>60599</td>\n",
       "      <td>172.24</td>\n",
       "    </tr>\n",
       "    <tr>\n",
       "      <th>1439146</th>\n",
       "      <td>20181102</td>\n",
       "      <td>18:17:24.482159000</td>\n",
       "      <td>RHT</td>\n",
       "      <td>NaN</td>\n",
       "      <td>11</td>\n",
       "      <td>172.20</td>\n",
       "    </tr>\n",
       "    <tr>\n",
       "      <th>1439147</th>\n",
       "      <td>20181102</td>\n",
       "      <td>18:17:24.482241000</td>\n",
       "      <td>RHT</td>\n",
       "      <td>NaN</td>\n",
       "      <td>11</td>\n",
       "      <td>172.18</td>\n",
       "    </tr>\n",
       "    <tr>\n",
       "      <th>1439148</th>\n",
       "      <td>20181102</td>\n",
       "      <td>19:49:17.208228000</td>\n",
       "      <td>RHT</td>\n",
       "      <td>NaN</td>\n",
       "      <td>10</td>\n",
       "      <td>171.99</td>\n",
       "    </tr>\n",
       "    <tr>\n",
       "      <th>1439149</th>\n",
       "      <td>20181102</td>\n",
       "      <td>19:56:48.014805000</td>\n",
       "      <td>RHT</td>\n",
       "      <td>NaN</td>\n",
       "      <td>39</td>\n",
       "      <td>171.99</td>\n",
       "    </tr>\n",
       "  </tbody>\n",
       "</table>\n",
       "<p>1439150 rows × 6 columns</p>\n",
       "</div>"
      ],
      "text/plain": [
       "             DATE              TIME_M SYM_ROOT  SYM_SUFFIX   SIZE   PRICE\n",
       "0        20181022   4:03:28.995389000      IBM         NaN    200  129.73\n",
       "1        20181022   4:26:26.485407000      IBM         NaN     12  129.50\n",
       "2        20181022   5:49:33.252150000      IBM         NaN      2  129.50\n",
       "3        20181022   6:49:35.433117000      IBM         NaN     30  129.45\n",
       "4        20181022   6:50:51.986140000      IBM         NaN     10  129.72\n",
       "...           ...                 ...      ...         ...    ...     ...\n",
       "1439145  20181102  18:05:15.571047000      RHT         NaN  60599  172.24\n",
       "1439146  20181102  18:17:24.482159000      RHT         NaN     11  172.20\n",
       "1439147  20181102  18:17:24.482241000      RHT         NaN     11  172.18\n",
       "1439148  20181102  19:49:17.208228000      RHT         NaN     10  171.99\n",
       "1439149  20181102  19:56:48.014805000      RHT         NaN     39  171.99\n",
       "\n",
       "[1439150 rows x 6 columns]"
      ]
     },
     "execution_count": 8,
     "metadata": {},
     "output_type": "execute_result"
    }
   ],
   "source": [
    "#Oct 27 and 28 are weekends\n",
    "import pandas as pd\n",
    "#dfQuotes = pd.read_csv(\"/Users/rohitk/Documents/Sure Data/IBMandRHTQuotes.csv\")\n",
    "dfTrades = pd.read_csv(\"/Users/rohitk/Documents/Sure Data/IBMandRHTTrades.csv\")\n",
    "dfTrades"
   ]
  },
  {
   "cell_type": "code",
   "execution_count": 9,
   "metadata": {},
   "outputs": [],
   "source": [
    "dfTrades = dfTrades.drop(columns = ['SYM_SUFFIX'])"
   ]
  },
  {
   "cell_type": "code",
   "execution_count": 10,
   "metadata": {},
   "outputs": [],
   "source": [
    "dfTrades['Datetime'] = pd.to_datetime(dfTrades[\"DATE\"].astype(str) + \" \" + dfTrades[\"TIME_M\"].astype(str))"
   ]
  },
  {
   "cell_type": "code",
   "execution_count": 11,
   "metadata": {},
   "outputs": [],
   "source": [
    "dfTrades = dfTrades.drop(columns=['DATE','TIME_M'])"
   ]
  },
  {
   "cell_type": "code",
   "execution_count": 12,
   "metadata": {},
   "outputs": [],
   "source": [
    "%matplotlib inline\n",
    "import matplotlib.pyplot as plt"
   ]
  },
  {
   "cell_type": "code",
   "execution_count": 13,
   "metadata": {},
   "outputs": [
    {
     "data": {
      "text/html": [
       "<div>\n",
       "<style scoped>\n",
       "    .dataframe tbody tr th:only-of-type {\n",
       "        vertical-align: middle;\n",
       "    }\n",
       "\n",
       "    .dataframe tbody tr th {\n",
       "        vertical-align: top;\n",
       "    }\n",
       "\n",
       "    .dataframe thead th {\n",
       "        text-align: right;\n",
       "    }\n",
       "</style>\n",
       "<table border=\"1\" class=\"dataframe\">\n",
       "  <thead>\n",
       "    <tr style=\"text-align: right;\">\n",
       "      <th></th>\n",
       "      <th>SYM_ROOT</th>\n",
       "      <th>SIZE</th>\n",
       "      <th>PRICE</th>\n",
       "    </tr>\n",
       "    <tr>\n",
       "      <th>Datetime</th>\n",
       "      <th></th>\n",
       "      <th></th>\n",
       "      <th></th>\n",
       "    </tr>\n",
       "  </thead>\n",
       "  <tbody>\n",
       "    <tr>\n",
       "      <th>2018-10-22 04:03:28.995389</th>\n",
       "      <td>IBM</td>\n",
       "      <td>200</td>\n",
       "      <td>129.73</td>\n",
       "    </tr>\n",
       "    <tr>\n",
       "      <th>2018-10-22 04:26:26.485407</th>\n",
       "      <td>IBM</td>\n",
       "      <td>12</td>\n",
       "      <td>129.50</td>\n",
       "    </tr>\n",
       "    <tr>\n",
       "      <th>2018-10-22 05:49:33.252150</th>\n",
       "      <td>IBM</td>\n",
       "      <td>2</td>\n",
       "      <td>129.50</td>\n",
       "    </tr>\n",
       "    <tr>\n",
       "      <th>2018-10-22 06:49:35.433117</th>\n",
       "      <td>IBM</td>\n",
       "      <td>30</td>\n",
       "      <td>129.45</td>\n",
       "    </tr>\n",
       "    <tr>\n",
       "      <th>2018-10-22 06:50:51.986140</th>\n",
       "      <td>IBM</td>\n",
       "      <td>10</td>\n",
       "      <td>129.72</td>\n",
       "    </tr>\n",
       "    <tr>\n",
       "      <th>...</th>\n",
       "      <td>...</td>\n",
       "      <td>...</td>\n",
       "      <td>...</td>\n",
       "    </tr>\n",
       "    <tr>\n",
       "      <th>2018-11-02 18:05:15.571047</th>\n",
       "      <td>RHT</td>\n",
       "      <td>60599</td>\n",
       "      <td>172.24</td>\n",
       "    </tr>\n",
       "    <tr>\n",
       "      <th>2018-11-02 18:17:24.482159</th>\n",
       "      <td>RHT</td>\n",
       "      <td>11</td>\n",
       "      <td>172.20</td>\n",
       "    </tr>\n",
       "    <tr>\n",
       "      <th>2018-11-02 18:17:24.482241</th>\n",
       "      <td>RHT</td>\n",
       "      <td>11</td>\n",
       "      <td>172.18</td>\n",
       "    </tr>\n",
       "    <tr>\n",
       "      <th>2018-11-02 19:49:17.208228</th>\n",
       "      <td>RHT</td>\n",
       "      <td>10</td>\n",
       "      <td>171.99</td>\n",
       "    </tr>\n",
       "    <tr>\n",
       "      <th>2018-11-02 19:56:48.014805</th>\n",
       "      <td>RHT</td>\n",
       "      <td>39</td>\n",
       "      <td>171.99</td>\n",
       "    </tr>\n",
       "  </tbody>\n",
       "</table>\n",
       "<p>1439150 rows × 3 columns</p>\n",
       "</div>"
      ],
      "text/plain": [
       "                           SYM_ROOT   SIZE   PRICE\n",
       "Datetime                                          \n",
       "2018-10-22 04:03:28.995389      IBM    200  129.73\n",
       "2018-10-22 04:26:26.485407      IBM     12  129.50\n",
       "2018-10-22 05:49:33.252150      IBM      2  129.50\n",
       "2018-10-22 06:49:35.433117      IBM     30  129.45\n",
       "2018-10-22 06:50:51.986140      IBM     10  129.72\n",
       "...                             ...    ...     ...\n",
       "2018-11-02 18:05:15.571047      RHT  60599  172.24\n",
       "2018-11-02 18:17:24.482159      RHT     11  172.20\n",
       "2018-11-02 18:17:24.482241      RHT     11  172.18\n",
       "2018-11-02 19:49:17.208228      RHT     10  171.99\n",
       "2018-11-02 19:56:48.014805      RHT     39  171.99\n",
       "\n",
       "[1439150 rows x 3 columns]"
      ]
     },
     "execution_count": 13,
     "metadata": {},
     "output_type": "execute_result"
    }
   ],
   "source": [
    "dfTrades = dfTrades.set_index('Datetime')\n",
    "dfTrades #has dateTime Index"
   ]
  },
  {
   "cell_type": "code",
   "execution_count": 14,
   "metadata": {},
   "outputs": [],
   "source": [
    "dfRHTTrades = dfTrades[dfTrades[\"SYM_ROOT\"] == \"RHT\"]\n",
    "dfIBMTrades = dfTrades[dfTrades[\"SYM_ROOT\"] == \"IBM\"]"
   ]
  },
  {
   "cell_type": "code",
   "execution_count": 9,
   "metadata": {
    "scrolled": false
   },
   "outputs": [
    {
     "data": {
      "text/plain": [
       "[<matplotlib.lines.Line2D at 0x121586940>]"
      ]
     },
     "execution_count": 9,
     "metadata": {},
     "output_type": "execute_result"
    },
    {
     "data": {
      "image/png": "[encoded data removed]",
      "text/plain": [
       "<Figure size 1080x576 with 1 Axes>"
      ]
     },
     "metadata": {
      "needs_background": "light"
     },
     "output_type": "display_data"
    }
   ],
   "source": [
    "plt.figure(figsize=[15,8])\n",
    "plt.title(\"RHT Trade Prices\")\n",
    "plt.plot(dfRHTTrades[\"PRICE\"])"
   ]
  },
  {
   "cell_type": "code",
   "execution_count": 10,
   "metadata": {},
   "outputs": [
    {
     "data": {
      "text/plain": [
       "[<matplotlib.lines.Line2D at 0x12181f1d0>]"
      ]
     },
     "execution_count": 10,
     "metadata": {},
     "output_type": "execute_result"
    },
    {
     "data": {
      "image/png": "[encoded data removed]",
      "text/plain": [
       "<Figure size 1080x576 with 1 Axes>"
      ]
     },
     "metadata": {
      "needs_background": "light"
     },
     "output_type": "display_data"
    }
   ],
   "source": [
    "plt.figure(figsize=[15,8])\n",
    "plt.title(\"IBM Trade Prices\")\n",
    "plt.plot(dfIBMTrades[\"PRICE\"])"
   ]
  },
  {
   "cell_type": "code",
   "execution_count": 21,
   "metadata": {},
   "outputs": [],
   "source": [
    "groupedOct29RHT = dfRHTTrades[dfRHTTrades.index.date.astype(str) == '2018-10-29']\n",
    "groupedOct29IBM = dfIBMTrades[dfIBMTrades.index.date.astype(str) == '2018-10-29']\n",
    "\n",
    "groupedOct26RHT = dfRHTTrades[dfRHTTrades.index.date.astype(str) == '2018-10-26']\n",
    "groupedOct26IBM = dfIBMTrades[dfIBMTrades.index.date.astype(str) == '2018-10-26']\n",
    "\n",
    "groupedOct30RHT = dfRHTTrades[dfRHTTrades.index.date.astype(str) == '2018-10-30']\n",
    "groupedOct30IBM = dfIBMTrades[dfIBMTrades.index.date.astype(str) == '2018-10-30']\n",
    "\n",
    "groupedOct25RHT = dfRHTTrades[dfRHTTrades.index.date.astype(str) == '2018-10-25']\n",
    "groupedOct25IBM = dfIBMTrades[dfIBMTrades.index.date.astype(str) == '2018-10-25']"
   ]
  },
  {
   "cell_type": "code",
   "execution_count": 26,
   "metadata": {},
   "outputs": [
    {
     "name": "stdout",
     "output_type": "stream",
     "text": [
      "RHT Oct 25: 16876\n",
      "RHT Oct 26: 17268\n",
      "RHT Oct 29: 206685\n",
      "RHT Oct 30: 74631\n",
      "IBM Oct 25: 85885\n",
      "IBM Oct 26: 83283\n",
      "IBM Oct 29: 152829\n",
      "IBM Oct 30: 144534\n",
      "total Trades Oct 25: 102761\n",
      "total Trades Oct 26: 100551\n",
      "total Trades Oct 29: 359514\n",
      "total Trades Oct 30: 219165\n"
     ]
    }
   ],
   "source": [
    "import numpy as np\n",
    "RHTOct29Array = groupedOct29RHT.index.to_numpy()\n",
    "IBMOct29Array = groupedOct29IBM.index.to_numpy()\n",
    "\n",
    "RHTOct26Array = groupedOct26RHT.index.to_numpy()\n",
    "IBMOct26Array = groupedOct26IBM.index.to_numpy()\n",
    "\n",
    "RHTOct30Array = groupedOct30RHT.index.to_numpy()\n",
    "IBMOct30Array = groupedOct30IBM.index.to_numpy()\n",
    "\n",
    "RHTOct25Array = groupedOct25RHT.index.to_numpy()\n",
    "IBMOct25Array = groupedOct25IBM.index.to_numpy()\n",
    "\n",
    "print(\"RHT Oct 25: \" + str(len(RHTOct25Array)))\n",
    "print(\"RHT Oct 26: \" + str(len(RHTOct26Array)))\n",
    "print(\"RHT Oct 29: \" + str(len(RHTOct29Array)))\n",
    "print(\"RHT Oct 30: \" + str(len(RHTOct30Array)))\n",
    "print(\"IBM Oct 25: \" + str(len(IBMOct25Array)))\n",
    "print(\"IBM Oct 26: \" + str(len(IBMOct26Array)))\n",
    "print(\"IBM Oct 29: \" + str(len(IBMOct29Array)))\n",
    "print(\"IBM Oct 30: \" + str(len(IBMOct30Array)))\n",
    "\n",
    "\n",
    "print(\"total Trades Oct 25: \" + str(len(RHTOct25Array) + len(IBMOct25Array)))\n",
    "print(\"total Trades Oct 26: \" + str(len(RHTOct26Array) + len(IBMOct26Array)))\n",
    "print(\"total Trades Oct 29: \" + str(len(RHTOct29Array) + len(IBMOct29Array)))\n",
    "print(\"total Trades Oct 30: \" + str(len(RHTOct30Array) + len(IBMOct30Array)))"
   ]
  },
  {
   "cell_type": "code",
   "execution_count": 15,
   "metadata": {},
   "outputs": [
    {
     "ename": "KeyboardInterrupt",
     "evalue": "",
     "output_type": "error",
     "traceback": [
      "\u001b[0;31m---------------------------------------------------------------------------\u001b[0m",
      "\u001b[0;31mKeyboardInterrupt\u001b[0m                         Traceback (most recent call last)",
      "\u001b[0;32m<ipython-input-15-8f46d6c8610c>\u001b[0m in \u001b[0;36m<module>\u001b[0;34m()\u001b[0m\n\u001b[1;32m      7\u001b[0m     \u001b[0;32mfor\u001b[0m \u001b[0mtime\u001b[0m\u001b[0;34m,\u001b[0m \u001b[0mrow\u001b[0m \u001b[0;32min\u001b[0m \u001b[0mgroupedOct29RHT\u001b[0m\u001b[0;34m.\u001b[0m\u001b[0miterrows\u001b[0m\u001b[0;34m(\u001b[0m\u001b[0;34m)\u001b[0m\u001b[0;34m:\u001b[0m\u001b[0;34m\u001b[0m\u001b[0;34m\u001b[0m\u001b[0m\n\u001b[1;32m      8\u001b[0m         \u001b[0mtimeOffset\u001b[0m \u001b[0;34m=\u001b[0m \u001b[0mtime\u001b[0m \u001b[0;34m+\u001b[0m \u001b[0mpd\u001b[0m\u001b[0;34m.\u001b[0m\u001b[0mDateOffset\u001b[0m\u001b[0;34m(\u001b[0m\u001b[0mmicroseconds\u001b[0m\u001b[0;34m=\u001b[0m\u001b[0mi\u001b[0m\u001b[0;34m)\u001b[0m\u001b[0;34m\u001b[0m\u001b[0;34m\u001b[0m\u001b[0m\n\u001b[0;32m----> 9\u001b[0;31m         \u001b[0mnumCross\u001b[0m \u001b[0;34m=\u001b[0m \u001b[0msum\u001b[0m\u001b[0;34m(\u001b[0m\u001b[0mgroupedOct29IBM\u001b[0m\u001b[0;34m.\u001b[0m\u001b[0mindex\u001b[0m \u001b[0;34m==\u001b[0m \u001b[0mtimeOffset\u001b[0m\u001b[0;34m)\u001b[0m\u001b[0;34m\u001b[0m\u001b[0;34m\u001b[0m\u001b[0m\n\u001b[0m\u001b[1;32m     10\u001b[0m         \u001b[0mtotalCross\u001b[0m \u001b[0;34m+=\u001b[0m \u001b[0mnumCross\u001b[0m\u001b[0;34m\u001b[0m\u001b[0;34m\u001b[0m\u001b[0m\n\u001b[1;32m     11\u001b[0m \u001b[0;34m\u001b[0m\u001b[0m\n",
      "\u001b[0;31mKeyboardInterrupt\u001b[0m: "
     ]
    }
   ],
   "source": [
    "#Key is time diff and value is number of trades\n",
    "crossTradesOct29 = {}\n",
    "\n",
    "for i in range(-1,0):\n",
    "    totalCross = 0\n",
    "    \n",
    "    for time in RHTTimes:\n",
    "        timeOffset = time + pd.DateOffset(microseconds=i)\n",
    "        numCross = sum(groupedOct29IBM.index == timeOffset)\n",
    "        totalCross += numCross\n",
    "    \n",
    "    crossTradesOct29[i] = totalCross\n",
    "\n",
    "print(crossTradesOct29)"
   ]
  },
  {
   "cell_type": "code",
   "execution_count": null,
   "metadata": {},
   "outputs": [],
   "source": [
    "dfRHTQuotes = df[df['SYM_ROOT'] == 'RHT']\n",
    "dfRHT['Datetime'] = pd.to_datetime(dfRHT[\"DATE\"].astype(str) + \" \" + dfRHT[\"TIME_M\"].astype(str))\n",
    "dfRHT.drop(columns=['DATE','TIME_M'])\n",
    "dfRHT = dfRHT.set_index('Datetime')"
   ]
  }
 ],
 "metadata": {
  "kernelspec": {
   "display_name": "Python 3",
   "language": "python",
   "name": "python3"
  },
  "language_info": {
   "codemirror_mode": {
    "name": "ipython",
    "version": 3
   },
   "file_extension": ".py",
   "mimetype": "text/x-python",
   "name": "python",
   "nbconvert_exporter": "python",
   "pygments_lexer": "ipython3",
   "version": "3.7.2"
  }
 },
 "nbformat": 4,
 "nbformat_minor": 2
}
